{
 "cells": [
  {
   "cell_type": "markdown",
   "metadata": {},
   "source": [
    "# 1. Import Dependencies"
   ]
  },
  {
   "cell_type": "code",
   "execution_count": 2,
   "metadata": {},
   "outputs": [
    {
     "name": "stdout",
     "output_type": "stream",
     "text": [
      "Requirement already satisfied: opencv-python in c:\\users\\brian\\onedrive\\desktop\\ani-dex\\tfodcourse\\tfod\\lib\\site-packages (4.10.0.82)\n",
      "Requirement already satisfied: numpy>=1.21.2 in c:\\users\\brian\\onedrive\\desktop\\ani-dex\\tfodcourse\\tfod\\lib\\site-packages (from opencv-python) (1.26.4)\n"
     ]
    }
   ],
   "source": [
    "!pip install opencv-python"
   ]
  },
  {
   "cell_type": "code",
   "execution_count": 3,
   "metadata": {},
   "outputs": [],
   "source": [
    "# Import opencv\n",
    "import cv2 \n",
    "\n",
    "# Import uuid\n",
    "import uuid\n",
    "\n",
    "# Import Operating System\n",
    "import os\n",
    "\n",
    "# Import time\n",
    "import time"
   ]
  },
  {
   "cell_type": "markdown",
   "metadata": {},
   "source": [
    "# 2. Define Images to Collect"
   ]
  },
  {
   "cell_type": "code",
   "execution_count": 4,
   "metadata": {},
   "outputs": [],
   "source": [
    "labels = ['cats', 'dogs', 'snakes', 'birds']\n",
    "number_imgs = 5"
   ]
  },
  {
   "cell_type": "markdown",
   "metadata": {},
   "source": [
    "# 3. Setup Folders "
   ]
  },
  {
   "cell_type": "code",
   "execution_count": 5,
   "metadata": {},
   "outputs": [],
   "source": [
    "IMAGES_PATH = os.path.join('Tensorflow', 'workspace', 'images', 'collectedimages')"
   ]
  },
  {
   "cell_type": "code",
   "execution_count": 6,
   "metadata": {
    "jupyter": {
     "source_hidden": true
    }
   },
   "outputs": [
    {
     "name": "stdout",
     "output_type": "stream",
     "text": [
      "Tensorflow\\workspace\\images\\collectedimages\n"
     ]
    }
   ],
   "source": [
    "print(IMAGES_PATH)"
   ]
  },
  {
   "cell_type": "code",
   "execution_count": 7,
   "metadata": {},
   "outputs": [],
   "source": [
    "if not os.path.exists(IMAGES_PATH):\n",
    "    if os.name == 'posix':\n",
    "        !mkdir -p {IMAGES_PATH}\n",
    "    if os.name == 'nt':\n",
    "         !mkdir {IMAGES_PATH}\n",
    "for label in labels:\n",
    "    path = os.path.join(IMAGES_PATH, label)\n",
    "    if not os.path.exists(path):\n",
    "        !mkdir {path}"
   ]
  },
  {
   "cell_type": "markdown",
   "metadata": {},
   "source": [
    "# 4. Capture Images"
   ]
  },
  {
   "cell_type": "code",
   "execution_count": 18,
   "metadata": {},
   "outputs": [
    {
     "name": "stdout",
     "output_type": "stream",
     "text": [
      "Collecting images for thumbsup\n",
      "Collecting image 0\n",
      "Collecting image 1\n",
      "Collecting image 2\n",
      "Collecting image 3\n",
      "Collecting image 4\n"
     ]
    }
   ],
   "source": [
    "for label in labels:\n",
    "    cap = cv2.VideoCapture(0)\n",
    "    print('Collecting images for {}'.format(label))\n",
    "    time.sleep(5)\n",
    "    for imgnum in range(number_imgs):\n",
    "        print('Collecting image {}'.format(imgnum))\n",
    "        ret, frame = cap.read()\n",
    "        imgname = os.path.join(IMAGES_PATH,label,label+'.'+'{}.jpg'.format(str(uuid.uuid1())))\n",
    "        cv2.imwrite(imgname, frame)\n",
    "        cv2.imshow('frame', frame)\n",
    "        time.sleep(2)\n",
    "\n",
    "        if cv2.waitKey(1) & 0xFF == ord('q'):\n",
    "            break\n",
    "cap.release()\n",
    "cv2.destroyAllWindows()"
   ]
  },
  {
   "cell_type": "markdown",
   "metadata": {},
   "source": [
    "# 5. Image Labelling"
   ]
  },
  {
   "cell_type": "code",
   "execution_count": 8,
   "metadata": {},
   "outputs": [
    {
     "name": "stdout",
     "output_type": "stream",
     "text": [
      "Collecting pyqt5\n",
      "  Downloading PyQt5-5.15.10-cp37-abi3-win_amd64.whl.metadata (2.2 kB)\n",
      "Collecting lxml\n",
      "  Downloading lxml-5.2.2-cp312-cp312-win_amd64.whl.metadata (3.5 kB)\n",
      "Collecting PyQt5-sip<13,>=12.13 (from pyqt5)\n",
      "  Downloading PyQt5_sip-12.13.0-cp312-cp312-win_amd64.whl.metadata (524 bytes)\n",
      "Collecting PyQt5-Qt5>=5.15.2 (from pyqt5)\n",
      "  Downloading PyQt5_Qt5-5.15.2-py3-none-win_amd64.whl.metadata (552 bytes)\n",
      "Downloading PyQt5-5.15.10-cp37-abi3-win_amd64.whl (6.8 MB)\n",
      "   ---------------------------------------- 0.0/6.8 MB ? eta -:--:--\n",
      "   ---------------------------------------- 0.0/6.8 MB 320.0 kB/s eta 0:00:22\n",
      "   ---------------------------------------- 0.0/6.8 MB 393.8 kB/s eta 0:00:18\n",
      "    --------------------------------------- 0.1/6.8 MB 901.1 kB/s eta 0:00:08\n",
      "   - -------------------------------------- 0.3/6.8 MB 1.7 MB/s eta 0:00:04\n",
      "   --- ------------------------------------ 0.6/6.8 MB 2.9 MB/s eta 0:00:03\n",
      "   ------ --------------------------------- 1.1/6.8 MB 4.2 MB/s eta 0:00:02\n",
      "   ------------- -------------------------- 2.3/6.8 MB 7.3 MB/s eta 0:00:01\n",
      "   ------------------- -------------------- 3.3/6.8 MB 9.0 MB/s eta 0:00:01\n",
      "   ---------------------- ----------------- 3.9/6.8 MB 9.9 MB/s eta 0:00:01\n",
      "   ----------------------------- ---------- 5.0/6.8 MB 11.1 MB/s eta 0:00:01\n",
      "   ---------------------------------- ----- 5.9/6.8 MB 11.8 MB/s eta 0:00:01\n",
      "   ---------------------------------------  6.8/6.8 MB 12.8 MB/s eta 0:00:01\n",
      "   ---------------------------------------  6.8/6.8 MB 12.8 MB/s eta 0:00:01\n",
      "   ---------------------------------------  6.8/6.8 MB 12.8 MB/s eta 0:00:01\n",
      "   ---------------------------------------- 6.8/6.8 MB 10.4 MB/s eta 0:00:00\n",
      "Downloading lxml-5.2.2-cp312-cp312-win_amd64.whl (3.8 MB)\n",
      "   ---------------------------------------- 0.0/3.8 MB ? eta -:--:--\n",
      "   -------------- ------------------------- 1.4/3.8 MB 30.1 MB/s eta 0:00:01\n",
      "   ------------------------ --------------- 2.4/3.8 MB 30.1 MB/s eta 0:00:01\n",
      "   --------------------------------- ------ 3.2/3.8 MB 22.7 MB/s eta 0:00:01\n",
      "   ---------------------------------------  3.8/3.8 MB 24.4 MB/s eta 0:00:01\n",
      "   ---------------------------------------  3.8/3.8 MB 24.4 MB/s eta 0:00:01\n",
      "   ---------------------------------------  3.8/3.8 MB 24.4 MB/s eta 0:00:01\n",
      "   ---------------------------------------- 3.8/3.8 MB 13.5 MB/s eta 0:00:00\n",
      "Downloading PyQt5_Qt5-5.15.2-py3-none-win_amd64.whl (50.1 MB)\n",
      "   ---------------------------------------- 0.0/50.1 MB ? eta -:--:--\n",
      "   - -------------------------------------- 1.7/50.1 MB 35.7 MB/s eta 0:00:02\n",
      "   -- ------------------------------------- 3.5/50.1 MB 37.3 MB/s eta 0:00:02\n",
      "   --- ------------------------------------ 5.0/50.1 MB 40.0 MB/s eta 0:00:02\n",
      "   ---- ----------------------------------- 5.8/50.1 MB 30.8 MB/s eta 0:00:02\n",
      "   ----- ---------------------------------- 6.7/50.1 MB 30.8 MB/s eta 0:00:02\n",
      "   ------ --------------------------------- 8.0/50.1 MB 30.3 MB/s eta 0:00:02\n",
      "   ------ --------------------------------- 8.7/50.1 MB 26.4 MB/s eta 0:00:02\n",
      "   ------- -------------------------------- 9.3/50.1 MB 24.8 MB/s eta 0:00:02\n",
      "   -------- ------------------------------- 10.4/50.1 MB 24.2 MB/s eta 0:00:02\n",
      "   -------- ------------------------------- 11.2/50.1 MB 24.2 MB/s eta 0:00:02\n",
      "   --------- ------------------------------ 12.1/50.1 MB 22.6 MB/s eta 0:00:02\n",
      "   ---------- ----------------------------- 13.4/50.1 MB 21.8 MB/s eta 0:00:02\n",
      "   ----------- ---------------------------- 14.7/50.1 MB 20.5 MB/s eta 0:00:02\n",
      "   ------------- -------------------------- 16.6/50.1 MB 24.3 MB/s eta 0:00:02\n",
      "   -------------- ------------------------- 17.8/50.1 MB 24.2 MB/s eta 0:00:02\n",
      "   --------------- ------------------------ 18.8/50.1 MB 25.2 MB/s eta 0:00:02\n",
      "   --------------- ------------------------ 20.0/50.1 MB 26.2 MB/s eta 0:00:02\n",
      "   ----------------- ---------------------- 21.3/50.1 MB 26.2 MB/s eta 0:00:02\n",
      "   ----------------- ---------------------- 22.5/50.1 MB 27.3 MB/s eta 0:00:02\n",
      "   ------------------- -------------------- 24.1/50.1 MB 28.5 MB/s eta 0:00:01\n",
      "   -------------------- ------------------- 26.0/50.1 MB 28.5 MB/s eta 0:00:01\n",
      "   --------------------- ------------------ 27.4/50.1 MB 28.5 MB/s eta 0:00:01\n",
      "   ---------------------- ----------------- 28.6/50.1 MB 29.8 MB/s eta 0:00:01\n",
      "   ------------------------ --------------- 30.2/50.1 MB 31.2 MB/s eta 0:00:01\n",
      "   ------------------------- -------------- 31.4/50.1 MB 31.2 MB/s eta 0:00:01\n",
      "   -------------------------- ------------- 32.8/50.1 MB 32.7 MB/s eta 0:00:01\n",
      "   -------------------------- ------------- 33.8/50.1 MB 29.7 MB/s eta 0:00:01\n",
      "   --------------------------- ------------ 34.1/50.1 MB 27.3 MB/s eta 0:00:01\n",
      "   ---------------------------- ----------- 35.7/50.1 MB 27.3 MB/s eta 0:00:01\n",
      "   ----------------------------- ---------- 37.2/50.1 MB 27.3 MB/s eta 0:00:01\n",
      "   ------------------------------- -------- 39.1/50.1 MB 28.5 MB/s eta 0:00:01\n",
      "   ------------------------------- -------- 39.9/50.1 MB 27.3 MB/s eta 0:00:01\n",
      "   -------------------------------- ------- 41.2/50.1 MB 27.3 MB/s eta 0:00:01\n",
      "   --------------------------------- ------ 42.3/50.1 MB 26.2 MB/s eta 0:00:01\n",
      "   ---------------------------------- ----- 43.1/50.1 MB 24.2 MB/s eta 0:00:01\n",
      "   ----------------------------------- ---- 44.4/50.1 MB 28.4 MB/s eta 0:00:01\n",
      "   ------------------------------------ --- 45.6/50.1 MB 27.3 MB/s eta 0:00:01\n",
      "   ------------------------------------- -- 47.2/50.1 MB 27.3 MB/s eta 0:00:01\n",
      "   -------------------------------------- - 48.3/50.1 MB 26.2 MB/s eta 0:00:01\n",
      "   ---------------------------------------  49.5/50.1 MB 25.2 MB/s eta 0:00:01\n",
      "   ---------------------------------------  50.1/50.1 MB 25.2 MB/s eta 0:00:01\n",
      "   ---------------------------------------  50.1/50.1 MB 25.2 MB/s eta 0:00:01\n",
      "   ---------------------------------------  50.1/50.1 MB 25.2 MB/s eta 0:00:01\n",
      "   ---------------------------------------  50.1/50.1 MB 25.2 MB/s eta 0:00:01\n",
      "   ---------------------------------------  50.1/50.1 MB 25.2 MB/s eta 0:00:01\n",
      "   ---------------------------------------  50.1/50.1 MB 25.2 MB/s eta 0:00:01\n",
      "   ---------------------------------------  50.1/50.1 MB 25.2 MB/s eta 0:00:01\n",
      "   ---------------------------------------  50.1/50.1 MB 25.2 MB/s eta 0:00:01\n",
      "   ---------------------------------------  50.1/50.1 MB 25.2 MB/s eta 0:00:01\n",
      "   ---------------------------------------  50.1/50.1 MB 25.2 MB/s eta 0:00:01\n",
      "   ---------------------------------------  50.1/50.1 MB 25.2 MB/s eta 0:00:01\n",
      "   ---------------------------------------  50.1/50.1 MB 25.2 MB/s eta 0:00:01\n",
      "   ---------------------------------------  50.1/50.1 MB 25.2 MB/s eta 0:00:01\n",
      "   ---------------------------------------  50.1/50.1 MB 25.2 MB/s eta 0:00:01\n",
      "   ---------------------------------------  50.1/50.1 MB 25.2 MB/s eta 0:00:01\n",
      "   ---------------------------------------  50.1/50.1 MB 25.2 MB/s eta 0:00:01\n",
      "   ---------------------------------------  50.1/50.1 MB 25.2 MB/s eta 0:00:01\n",
      "   ---------------------------------------  50.1/50.1 MB 25.2 MB/s eta 0:00:01\n",
      "   ---------------------------------------  50.1/50.1 MB 25.2 MB/s eta 0:00:01\n",
      "   ---------------------------------------  50.1/50.1 MB 25.2 MB/s eta 0:00:01\n",
      "   ---------------------------------------  50.1/50.1 MB 25.2 MB/s eta 0:00:01\n",
      "   ---------------------------------------  50.1/50.1 MB 25.2 MB/s eta 0:00:01\n",
      "   ---------------------------------------  50.1/50.1 MB 25.2 MB/s eta 0:00:01\n",
      "   ---------------------------------------  50.1/50.1 MB 25.2 MB/s eta 0:00:01\n",
      "   ---------------------------------------  50.1/50.1 MB 25.2 MB/s eta 0:00:01\n",
      "   ---------------------------------------  50.1/50.1 MB 25.2 MB/s eta 0:00:01\n",
      "   ---------------------------------------  50.1/50.1 MB 25.2 MB/s eta 0:00:01\n",
      "   ---------------------------------------  50.1/50.1 MB 25.2 MB/s eta 0:00:01\n",
      "   ---------------------------------------  50.1/50.1 MB 25.2 MB/s eta 0:00:01\n",
      "   ---------------------------------------- 50.1/50.1 MB 5.8 MB/s eta 0:00:00\n",
      "Downloading PyQt5_sip-12.13.0-cp312-cp312-win_amd64.whl (77 kB)\n",
      "   ---------------------------------------- 0.0/77.7 kB ? eta -:--:--\n",
      "   ---------------------------------------- 77.7/77.7 kB 2.1 MB/s eta 0:00:00\n",
      "Installing collected packages: PyQt5-Qt5, PyQt5-sip, lxml, pyqt5\n",
      "Successfully installed PyQt5-Qt5-5.15.2 PyQt5-sip-12.13.0 lxml-5.2.2 pyqt5-5.15.10\n"
     ]
    }
   ],
   "source": [
    "!pip install --upgrade pyqt5 lxml"
   ]
  },
  {
   "cell_type": "code",
   "execution_count": 9,
   "metadata": {},
   "outputs": [],
   "source": [
    "LABELIMG_PATH = os.path.join('Tensorflow', 'labelimg')"
   ]
  },
  {
   "cell_type": "code",
   "execution_count": 10,
   "metadata": {},
   "outputs": [
    {
     "name": "stderr",
     "output_type": "stream",
     "text": [
      "'git' is not recognized as an internal or external command,\n",
      "operable program or batch file.\n"
     ]
    }
   ],
   "source": [
    "if not os.path.exists(LABELIMG_PATH):\n",
    "    !mkdir {LABELIMG_PATH}\n",
    "    !git clone https://github.com/tzutalin/labelImg {LABELIMG_PATH}"
   ]
  },
  {
   "cell_type": "code",
   "execution_count": 11,
   "metadata": {},
   "outputs": [],
   "source": [
    "if os.name == 'posix':\n",
    "    !make qt5py3\n",
    "if os.name =='nt':\n",
    "    !cd {LABELIMG_PATH} && pyrcc5 -o libs/resources.py resources.qrc"
   ]
  },
  {
   "cell_type": "code",
   "execution_count": null,
   "metadata": {},
   "outputs": [],
   "source": [
    "!cd {LABELIMG_PATH} && python labelImg.py"
   ]
  },
  {
   "cell_type": "markdown",
   "metadata": {
    "jp-MarkdownHeadingCollapsed": true
   },
   "source": [
    "# 6. Move them into a Training and Testing Partition"
   ]
  },
  {
   "cell_type": "markdown",
   "metadata": {},
   "source": [
    "# OPTIONAL - 7. Compress them for Colab Training"
   ]
  },
  {
   "cell_type": "code",
   "execution_count": 20,
   "metadata": {},
   "outputs": [],
   "source": [
    "TRAIN_PATH = os.path.join('Tensorflow', 'workspace', 'images', 'train')\n",
    "TEST_PATH = os.path.join('Tensorflow', 'workspace', 'images', 'test')\n",
    "ARCHIVE_PATH = os.path.join('Tensorflow', 'workspace', 'images', 'archive.tar.gz')"
   ]
  },
  {
   "cell_type": "code",
   "execution_count": 21,
   "metadata": {},
   "outputs": [],
   "source": [
    "!tar -czf {ARCHIVE_PATH} {TRAIN_PATH} {TEST_PATH}"
   ]
  },
  {
   "cell_type": "code",
   "execution_count": null,
   "metadata": {},
   "outputs": [],
   "source": []
  }
 ],
 "metadata": {
  "kernelspec": {
   "display_name": "tfod",
   "language": "python",
   "name": "tfod"
  },
  "language_info": {
   "codemirror_mode": {
    "name": "ipython",
    "version": 3
   },
   "file_extension": ".py",
   "mimetype": "text/x-python",
   "name": "python",
   "nbconvert_exporter": "python",
   "pygments_lexer": "ipython3",
   "version": "3.12.3"
  }
 },
 "nbformat": 4,
 "nbformat_minor": 4
}
